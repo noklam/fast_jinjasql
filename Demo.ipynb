{
 "cells": [
  {
   "cell_type": "code",
   "execution_count": null,
   "id": "written-lawrence",
   "metadata": {},
   "outputs": [],
   "source": [
    "from jinjasql import JinjaSql\n",
    "j = JinjaSql(param_style='pyformat')"
   ]
  },
  {
   "cell_type": "code",
   "execution_count": null,
   "id": "insured-dispute",
   "metadata": {},
   "outputs": [],
   "source": [
    "template = \"\"\"\n",
    "    SELECT project, timesheet, hours\n",
    "    FROM timesheet\n",
    "    WHERE user_id = {{ user_id }}\n",
    "    {% if project_id %}\n",
    "    AND project_id = {{ project_id }}\n",
    "    {% endif %}\n",
    "\"\"\""
   ]
  },
  {
   "cell_type": "code",
   "execution_count": null,
   "id": "opposed-jacob",
   "metadata": {},
   "outputs": [
    {
     "data": {
      "text/plain": [
       "'\\n    SELECT project, timesheet, hours\\n    FROM timesheet\\n    WHERE user_id = {{ user_id }}\\n    {% if project_id %}\\n    AND project_id = {{ project_id }}\\n    {% endif %}\\n'"
      ]
     },
     "execution_count": null,
     "metadata": {},
     "output_type": "execute_result"
    }
   ],
   "source": [
    "template"
   ]
  },
  {
   "cell_type": "markdown",
   "id": "stable-token",
   "metadata": {},
   "source": [
    "# Dynamic `WHERE` Clause "
   ]
  },
  {
   "cell_type": "code",
   "execution_count": null,
   "id": "searching-balance",
   "metadata": {},
   "outputs": [
    {
     "name": "stdout",
     "output_type": "stream",
     "text": [
      "\n    SELECT project, timesheet, hours\n    FROM timesheet\n    WHERE user_id = %(user_id_1)s\n    \n    AND project_id = %(project_id_2)s\n    \n"
     ]
    }
   ],
   "source": [
    "data = {\n",
    "    \"project_id\": 123,\n",
    "    \"user_id\": u\"sripathi\"\n",
    "}\n",
    "\n",
    "query, bind_params = j.prepare_query(template, data)\n",
    "print(query)"
   ]
  },
  {
   "cell_type": "code",
   "execution_count": null,
   "id": "political-offering",
   "metadata": {},
   "outputs": [
    {
     "name": "stdout",
     "output_type": "stream",
     "text": [
      "\n    SELECT project, timesheet, hours\n    FROM timesheet\n    WHERE user_id = %(user_id_1)s\n    \n"
     ]
    }
   ],
   "source": [
    "data = {\n",
    "#     \"project_id\": 123,\n",
    "    \"user_id\": u\"sripathi\"\n",
    "}\n",
    "\n",
    "query, bind_params = j.prepare_query(template, data)\n",
    "print(query)"
   ]
  },
  {
   "cell_type": "markdown",
   "id": "polished-million",
   "metadata": {},
   "source": [
    "Notice that the `AND` clause is automatically removed using the `Jinja` if/else condition."
   ]
  },
  {
   "cell_type": "code",
   "execution_count": null,
   "id": "turkish-barrier",
   "metadata": {},
   "outputs": [
    {
     "data": {
      "text/plain": [
       "'\\n    SELECT project, timesheet, hours\\n    FROM timesheet\\n    WHERE user_id = %(user_id_1)s\\n    '"
      ]
     },
     "execution_count": null,
     "metadata": {},
     "output_type": "execute_result"
    }
   ],
   "source": [
    "query"
   ]
  },
  {
   "cell_type": "code",
   "execution_count": null,
   "id": "pleased-minister",
   "metadata": {},
   "outputs": [
    {
     "data": {
      "text/plain": [
       "'\\n    SELECT project, timesheet, hours\\n    FROM timesheet\\n    WHERE user_id = sripathi\\n    '"
      ]
     },
     "execution_count": null,
     "metadata": {},
     "output_type": "execute_result"
    }
   ],
   "source": [
    "query %bind_params"
   ]
  },
  {
   "cell_type": "code",
   "execution_count": null,
   "id": "amino-palestine",
   "metadata": {},
   "outputs": [
    {
     "data": {
      "text/plain": [
       "{'user_id_1': 'sripathi'}"
      ]
     },
     "execution_count": null,
     "metadata": {},
     "output_type": "execute_result"
    }
   ],
   "source": [
    "bind_params"
   ]
  },
  {
   "cell_type": "code",
   "execution_count": null,
   "id": "external-causing",
   "metadata": {},
   "outputs": [],
   "source": [
    "from six import string_types\n",
    "\n",
    "def quote_sql_string(value):\n",
    "    '''\n",
    "    If `value` is a string type, escapes single quotes in the string\n",
    "    and returns the string enclosed in single quotes.\n",
    "    '''\n",
    "    if isinstance(value, string_types):\n",
    "        new_value = str(value)\n",
    "        new_value = new_value.replace(\"'\", \"''\")\n",
    "        return \"'{}'\".format(new_value)\n",
    "    return value\n",
    "\n",
    "from copy import deepcopy\n",
    "def get_sql_from_template(query, bind_params=None):\n",
    "    if not bind_params:\n",
    "        return query\n",
    "    params = deepcopy(bind_params)\n",
    "    for key, val in params.items():\n",
    "        params[key] = quote_sql_string(val)\n",
    "    return query % params"
   ]
  },
  {
   "cell_type": "code",
   "execution_count": null,
   "id": "dietary-hello",
   "metadata": {},
   "outputs": [],
   "source": [
    "q = \"\"\"\n",
    "select\n",
    "    user_id\n",
    "    , count(*) as num_transactions\n",
    "    , sum(amount) as total_amount\n",
    "from\n",
    "    transactions\n",
    "where\n",
    "    user_id = %(user_id)s\n",
    "    and transaction_date = %(transaction_date)s\n",
    "group by\n",
    "    user_id\n",
    "    \"\"\""
   ]
  },
  {
   "cell_type": "code",
   "execution_count": null,
   "id": "improved-horizontal",
   "metadata": {},
   "outputs": [
    {
     "name": "stdout",
     "output_type": "stream",
     "text": [
      "\nselect\n    user_id\n    , count(*) as num_transactions\n    , sum(amount) as total_amount\nfrom\n    transactions\nwhere\n    user_id = '1'\n    and transaction_date = '123'\ngroup by\n    user_id\n    \n"
     ]
    }
   ],
   "source": [
    "print(get_sql_from_template(q, bind_params={'user_id':'1','transaction_date':'123'}))"
   ]
  },
  {
   "cell_type": "markdown",
   "id": "above-headquarters",
   "metadata": {},
   "source": [
    "# Reference\n",
    "* https://towardsdatascience.com/a-simple-approach-to-templated-sql-queries-in-python-adc4f0dc511"
   ]
  }
 ],
 "metadata": {
  "kernelspec": {
   "display_name": "Python 3.8.3 64-bit (conda)",
   "name": "python383jvsc74a57bd0ecf5722fdaf1897a315d257d89d94520bfcaa453217d5becf09b39e73618b0de"
  }
 },
 "nbformat": 4,
 "nbformat_minor": 5
}
