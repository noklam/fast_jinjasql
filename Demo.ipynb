{
 "cells": [
  {
   "cell_type": "code",
   "execution_count": null,
   "id": "written-lawrence",
   "metadata": {},
   "outputs": [],
   "source": [
    "from jinjasql import JinjaSql\n",
    "j = JinjaSql(param_style='pyformat')"
   ]
  },
  {
   "cell_type": "code",
   "execution_count": null,
   "id": "insured-dispute",
   "metadata": {},
   "outputs": [],
   "source": [
    "template = \"\"\"\n",
    "    SELECT project, timesheet, hours\n",
    "    FROM timesheet\n",
    "    WHERE user_id = {{ user_id }}\n",
    "    {% if project_id %}\n",
    "    AND project_id = {{ project_id }}\n",
    "    {% endif %}\n",
    "\"\"\""
   ]
  },
  {
   "cell_type": "code",
   "execution_count": null,
   "id": "opposed-jacob",
   "metadata": {},
   "outputs": [
    {
     "data": {
      "text/plain": [
       "'\\n    SELECT project, timesheet, hours\\n    FROM timesheet\\n    WHERE user_id = {{ user_id }}\\n    {% if project_id %}\\n    AND project_id = {{ project_id }}\\n    {% endif %}\\n'"
      ]
     },
     "execution_count": null,
     "metadata": {},
     "output_type": "execute_result"
    }
   ],
   "source": [
    "template"
   ]
  },
  {
   "cell_type": "markdown",
   "id": "stable-token",
   "metadata": {},
   "source": [
    "# Dynamic `WHERE` Clause "
   ]
  },
  {
   "cell_type": "code",
   "execution_count": null,
   "id": "searching-balance",
   "metadata": {},
   "outputs": [
    {
     "name": "stdout",
     "output_type": "stream",
     "text": [
      "\n",
      "    SELECT project, timesheet, hours\n",
      "    FROM timesheet\n",
      "    WHERE user_id = %(user_id_1)s\n",
      "    \n",
      "    AND project_id = %(project_id_2)s\n",
      "    \n"
     ]
    }
   ],
   "source": [
    "data = {\n",
    "    \"project_id\": 123,\n",
    "    \"user_id\": u\"sripathi\"\n",
    "}\n",
    "\n",
    "query, bind_params = j.prepare_query(template, data)\n",
    "print(query)"
   ]
  },
  {
   "cell_type": "code",
   "execution_count": null,
   "id": "political-offering",
   "metadata": {},
   "outputs": [
    {
     "name": "stdout",
     "output_type": "stream",
     "text": [
      "\n",
      "    SELECT project, timesheet, hours\n",
      "    FROM timesheet\n",
      "    WHERE user_id = %(user_id_1)s\n",
      "    \n"
     ]
    }
   ],
   "source": [
    "data = {\n",
    "#     \"project_id\": 123,\n",
    "    \"user_id\": u\"sripathi\"\n",
    "}\n",
    "\n",
    "query, bind_params = j.prepare_query(template, data)\n",
    "print(query)"
   ]
  },
  {
   "cell_type": "markdown",
   "id": "polished-million",
   "metadata": {},
   "source": [
    "Notice that the `AND` clause is automatically removed using the `Jinja` if/else condition."
   ]
  },
  {
   "cell_type": "code",
   "execution_count": null,
   "id": "turkish-barrier",
   "metadata": {},
   "outputs": [
    {
     "data": {
      "text/plain": [
       "'\\n    SELECT project, timesheet, hours\\n    FROM timesheet\\n    WHERE user_id = %(user_id_1)s\\n    '"
      ]
     },
     "execution_count": null,
     "metadata": {},
     "output_type": "execute_result"
    }
   ],
   "source": [
    "query"
   ]
  },
  {
   "cell_type": "code",
   "execution_count": null,
   "id": "pleased-minister",
   "metadata": {},
   "outputs": [
    {
     "data": {
      "text/plain": [
       "'\\n    SELECT project, timesheet, hours\\n    FROM timesheet\\n    WHERE user_id = sripathi\\n    '"
      ]
     },
     "execution_count": null,
     "metadata": {},
     "output_type": "execute_result"
    }
   ],
   "source": [
    "query %bind_params"
   ]
  },
  {
   "cell_type": "code",
   "execution_count": null,
   "id": "amino-palestine",
   "metadata": {},
   "outputs": [
    {
     "data": {
      "text/plain": [
       "['sripathi']"
      ]
     },
     "execution_count": null,
     "metadata": {},
     "output_type": "execute_result"
    }
   ],
   "source": [
    "bind_params"
   ]
  },
  {
   "cell_type": "code",
   "execution_count": null,
   "id": "colored-spyware",
   "metadata": {},
   "outputs": [],
   "source": [
    "import os\n",
    "from snaql.factory import Snaql\n",
    "# root_location = os.path.abspath(os.path.dirname(__file__))\n",
    "snaql_factory = Snaql('.', 'queries')"
   ]
  },
  {
   "cell_type": "code",
   "execution_count": null,
   "id": "seven-island",
   "metadata": {},
   "outputs": [],
   "source": [
    "users_queries = snaql_factory.load_queries('users.sql')"
   ]
  },
  {
   "cell_type": "code",
   "execution_count": null,
   "id": "negative-northwest",
   "metadata": {},
   "outputs": [
    {
     "data": {
      "text/plain": [
       "SQLFactory(users_select_cond=<function Snaql.gen_func.<locals>.fn at 0x00000274B999F820>, ordered_blocks=[<function Snaql.gen_func.<locals>.fn at 0x00000274B999F820>])"
      ]
     },
     "execution_count": null,
     "metadata": {},
     "output_type": "execute_result"
    }
   ],
   "source": [
    "users_queries"
   ]
  },
  {
   "cell_type": "code",
   "execution_count": null,
   "id": "registered-testing",
   "metadata": {},
   "outputs": [],
   "source": [
    "your_sql = users_queries.users_select_cond()"
   ]
  },
  {
   "cell_type": "code",
   "execution_count": null,
   "id": "choice-shopper",
   "metadata": {},
   "outputs": [
    {
     "data": {
      "text/plain": [
       "'SELECT *\\n FROM user\\n '"
      ]
     },
     "execution_count": null,
     "metadata": {},
     "output_type": "execute_result"
    }
   ],
   "source": [
    "your_sql"
   ]
  },
  {
   "cell_type": "code",
   "execution_count": null,
   "id": "polar-reducing",
   "metadata": {},
   "outputs": [],
   "source": [
    "sql_context = {'users_ids': [\"1\", \"2\", \"3\"]}\n",
    "your_sql = users_queries.users_select_cond(**sql_context)"
   ]
  },
  {
   "cell_type": "code",
   "execution_count": null,
   "id": "direct-composition",
   "metadata": {},
   "outputs": [
    {
     "name": "stdout",
     "output_type": "stream",
     "text": [
      "SELECT *\n",
      " FROM user\n",
      "  WHERE user_id IN (1, 2, 3)\n"
     ]
    }
   ],
   "source": [
    "print(your_sql)"
   ]
  },
  {
   "cell_type": "code",
   "execution_count": null,
   "id": "political-childhood",
   "metadata": {},
   "outputs": [
    {
     "ename": "NameError",
     "evalue": "name 'query' is not defined",
     "output_type": "error",
     "traceback": [
      "\u001b[1;31m---------------------------------------------------------------------------\u001b[0m",
      "\u001b[1;31mNameError\u001b[0m                                 Traceback (most recent call last)",
      "\u001b[1;32m<ipython-input-32-731e69e59f7f>\u001b[0m in \u001b[0;36m<module>\u001b[1;34m\u001b[0m\n\u001b[1;32m----> 1\u001b[1;33m \u001b[0mquery\u001b[0m\u001b[1;33m\u001b[0m\u001b[1;33m\u001b[0m\u001b[0m\n\u001b[0m",
      "\u001b[1;31mNameError\u001b[0m: name 'query' is not defined"
     ]
    }
   ],
   "source": [
    "query"
   ]
  },
  {
   "cell_type": "code",
   "execution_count": null,
   "id": "external-causing",
   "metadata": {},
   "outputs": [],
   "source": [
    "from six import string_types\n",
    "\n",
    "def quote_sql_string(value):\n",
    "    '''\n",
    "    If `value` is a string type, escapes single quotes in the string\n",
    "    and returns the string enclosed in single quotes.\n",
    "    '''\n",
    "    if isinstance(value, string_types):\n",
    "        new_value = str(value)\n",
    "        new_value = new_value.replace(\"'\", \"''\")\n",
    "        return \"'{}'\".format(new_value)\n",
    "    return value\n",
    "\n",
    "from copy import deepcopy\n",
    "def get_sql_from_template(query, bind_params=None):\n",
    "    if not bind_params:\n",
    "        return query\n",
    "    params = deepcopy(bind_params)\n",
    "    for key, val in params.items():\n",
    "        params[key] = quote_sql_string(val)\n",
    "    return query % params"
   ]
  },
  {
   "cell_type": "code",
   "execution_count": null,
   "id": "dietary-hello",
   "metadata": {},
   "outputs": [],
   "source": [
    "q = \"\"\"\n",
    "select\n",
    "    user_id\n",
    "    , count(*) as num_transactions\n",
    "    , sum(amount) as total_amount\n",
    "from\n",
    "    transactions\n",
    "where\n",
    "    user_id = %(user_id)s\n",
    "    and transaction_date = %(transaction_date)s\n",
    "group by\n",
    "    user_id\n",
    "    \"\"\""
   ]
  },
  {
   "cell_type": "code",
   "execution_count": null,
   "id": "improved-horizontal",
   "metadata": {},
   "outputs": [
    {
     "name": "stdout",
     "output_type": "stream",
     "text": [
      "\n",
      "select\n",
      "    user_id\n",
      "    , count(*) as num_transactions\n",
      "    , sum(amount) as total_amount\n",
      "from\n",
      "    transactions\n",
      "where\n",
      "    user_id = '1'\n",
      "    and transaction_date = '123'\n",
      "group by\n",
      "    user_id\n",
      "    \n"
     ]
    }
   ],
   "source": [
    "print(get_sql_from_template(q, bind_params={'user_id':'1','transaction_date':'123'}))"
   ]
  },
  {
   "cell_type": "markdown",
   "id": "above-headquarters",
   "metadata": {},
   "source": [
    "# Reference\n",
    "* https://towardsdatascience.com/a-simple-approach-to-templated-sql-queries-in-python-adc4f0dc511"
   ]
  },
  {
   "cell_type": "code",
   "execution_count": null,
   "id": "material-depression",
   "metadata": {},
   "outputs": [],
   "source": []
  }
 ],
 "metadata": {
  "kernelspec": {
   "display_name": "Python 3",
   "language": "python",
   "name": "python3"
  }
 },
 "nbformat": 4,
 "nbformat_minor": 5
}
